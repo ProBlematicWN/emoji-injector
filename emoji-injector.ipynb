{
  "nbformat": 4,
  "nbformat_minor": 0,
  "metadata": {
    "colab": {
      "provenance": [],
      "authorship_tag": "ABX9TyNvFMad6COQ5hyfytP0j2f9",
      "include_colab_link": true
    },
    "kernelspec": {
      "name": "python3",
      "display_name": "Python 3"
    },
    "language_info": {
      "name": "python"
    }
  },
  "cells": [
    {
      "cell_type": "markdown",
      "metadata": {
        "id": "view-in-github",
        "colab_type": "text"
      },
      "source": [
        "<a href=\"https://colab.research.google.com/github/ProBlematicWN/emoji-injector/blob/main/emoji-injector.ipynb\" target=\"_parent\"><img src=\"https://colab.research.google.com/assets/colab-badge.svg\" alt=\"Open In Colab\"/></a>"
      ]
    },
    {
      "cell_type": "code",
      "execution_count": null,
      "metadata": {
        "id": "oqczGHyN3bRr"
      },
      "outputs": [],
      "source": [
        "# @title Main part {\"display-mode\":\"form\"}\n",
        "import random\n",
        "\n",
        "def emote():\n",
        "    emoji_list = list('😀😁😂🤣😃😄😅😆😉😊😋😎😍😘🥰🤩🙄😛😜🤯😤😨😲😭🥵🤬🤮🥺😈🤓👹💀☠👽🐖🐏🦀💪✌🎈🍑🍆✈🔥⚡')\n",
        "    random_emoji = str(random.choice(emoji_list))\n",
        "    random1 = random.randint(0,1)\n",
        "    if random1 == 0:\n",
        "        random_emoji = random_emoji*2\n",
        "    return random_emoji\n",
        "\n",
        "def entered(b):\n",
        "    a = ' '\n",
        "    for a in b:\n",
        "        random2 = random.randint(0, 1)\n",
        "        if random2 == 0:\n",
        "            replaced = b.replace(' ', emote(), 1)\n",
        "        else:\n",
        "            replaced = b.replace(' ', emote(), 1)\n",
        "\n",
        "        b = replaced\n",
        "    b = b.replace('⠀', ' ')\n",
        "    print(b)\n"
      ]
    },
    {
      "cell_type": "code",
      "source": [
        "# @title Input text {\"display-mode\":\"form\"}\n",
        "\n",
        "try:\n",
        "  while True:\n",
        "    entered(\"\\n\" + input('enter text: ') + \"\\n\")\n",
        "except:\n",
        "  print(\"Exit\")"
      ],
      "metadata": {
        "colab": {
          "base_uri": "https://localhost:8080/"
        },
        "id": "ZHWWRGFaBPZA",
        "outputId": "202f67f9-1963-4c03-fdfd-973fa97fd545"
      },
      "execution_count": 4,
      "outputs": [
        {
          "name": "stdout",
          "output_type": "stream",
          "text": [
            "enter text: 1 2 3 4 5\n",
            "\n",
            "1🤯🤯2😍3💀4😎5\n",
            "\n",
            "Exit\n",
            "enter text: asdaasd\n"
          ]
        }
      ]
    }
  ]
}